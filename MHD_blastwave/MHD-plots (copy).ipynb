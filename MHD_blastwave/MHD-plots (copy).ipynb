{
 "cells": [
  {
   "cell_type": "markdown",
   "metadata": {},
   "source": [
    "# Plotting of MHD data"
   ]
  },
  {
   "cell_type": "code",
   "execution_count": null,
   "metadata": {},
   "outputs": [],
   "source": [
    "import script.pyPLUTO as pp\n",
    "import matplotlib.pyplot as plt\n",
    "import matplotlib as mpl\n",
    "from matplotlib.image import imread\n",
    "\n",
    "import numpy as np\n",
    "import pandas as pd\n",
    "\n",
    "# some commonly used constants\n",
    "CONST_mp = 1.67262171e-24  # gr"
   ]
  },
  {
   "cell_type": "markdown",
   "metadata": {},
   "source": [
    "Increase rsolution of plots"
   ]
  },
  {
   "cell_type": "code",
   "execution_count": null,
   "metadata": {
    "jupyter": {
     "source_hidden": true
    }
   },
   "outputs": [],
   "source": [
    "mpl.rcParams[\"figure.dpi\"] = 150"
   ]
  },
  {
   "cell_type": "markdown",
   "metadata": {},
   "source": [
    "Usefull functions"
   ]
  },
  {
   "cell_type": "code",
   "execution_count": null,
   "metadata": {
    "jupyter": {
     "source_hidden": true
    }
   },
   "outputs": [],
   "source": [
    "def get_extent(file, firstline):\n",
    "    \"\"\"this functions retrieves the extent of the grid (in code-units) and number of points from the grid.out \n",
    "    file in one dimension (starting at firstline)\n",
    "    \n",
    "    file: the grid.out file\n",
    "    firstline: the line in the file to look for the number of points in that dimension\"\"\"\n",
    "    with open(file, \"r\") as gridfile:\n",
    "        lines = gridfile.readlines()\n",
    "        # get the number of points\n",
    "        NUM_POINTS = int(lines[firstline])\n",
    "\n",
    "        # get the extent of the x-axis (in code units)\n",
    "        # the first line of the grid, so minimum coordinate\n",
    "        line = lines[firstline+1]\n",
    "        parts = line.split()\n",
    "        # remove the spaces\n",
    "        for part in parts:\n",
    "            if part == \" \":\n",
    "                del part\n",
    "        d_min = float(parts[1])\n",
    "        # the last line\n",
    "        line = lines[firstline+NUM_POINTS]\n",
    "        parts = line.split()\n",
    "        # remove the spaces\n",
    "        for part in parts:\n",
    "            if part == \" \":\n",
    "                del part\n",
    "        d_max = float(parts[2])\n",
    "    \n",
    "    return (NUM_POINTS, (d_min, d_max))"
   ]
  },
  {
   "cell_type": "markdown",
   "metadata": {},
   "source": [
    "## get metadata of the simulation data"
   ]
  },
  {
   "cell_type": "code",
   "execution_count": null,
   "metadata": {},
   "outputs": [],
   "source": [
    "# specify the directories where the data is stored and where the output should be stored\n",
    "DATA_DIR = \"out-raw/beta1/\"\n",
    "OUT_DIR = \"images/\"\n",
    "\n",
    "# define the conversion factors, can be seen when starting the simulation\n",
    "UNIT_DENSITY = 1e9*CONST_mp\n",
    "UNIT_LENGTH = 1e8 # cm (1AU)\n",
    "UNIT_VELOCITY = 1e8 # cm/s\n",
    "UNIT_TIME = UNIT_LENGTH/UNIT_VELOCITY\n",
    "UNIT_PRESSURE = 1.673e1   # dyne/cm^2"
   ]
  },
  {
   "cell_type": "code",
   "execution_count": null,
   "metadata": {},
   "outputs": [],
   "source": [
    "# get info about the stored data\n",
    "file_data = pd.read_csv(DATA_DIR+\"dbl.out\", sep=\" \", names=[\"index\", \"t\", \"dt\", \"step\", \"type\", \"little\", \"rho\",\n",
    "                                                            \"vx1\", \"vx2\", \"vx3\", \"Bx1\", \"Bx2\", \"Bx3\", \"prs\", \"psi_glm\", \"empty\"])\n",
    "# delete columns that are not needed\n",
    "for column in [\"index\", \"type\", \"little\", \"rho\", \"vx1\", \"vx2\", \"vx3\", \"Bx1\", \"Bx2\", \"Bx3\", \"prs\", \"psi_glm\", \"empty\"]:\n",
    "    del file_data[column]\n",
    "\n",
    "X_POINTS = 0\n",
    "Y_POINTS = 0\n",
    "X_EXTENT = (0,0)\n",
    "Y_EXTENT = (0,0)\n",
    "\n",
    "# get the extend of the grid\n",
    "# get the extent of the x-axis (in code units)\n",
    "X_POINTS, X_EXTENT = get_extent(DATA_DIR+\"grid.out\", 9)\n",
    "# get the extent of the y-axis\n",
    "Y_POINTS, Y_EXTENT = get_extent(DATA_DIR+\"grid.out\", 10+X_POINTS)\n",
    "\n",
    "# number of files saved\n",
    "N = len(file_data[\"t\"])\n",
    "\n",
    "# physical extent of the grid\n",
    "extent_temp = X_EXTENT + Y_EXTENT\n",
    "extent = [value*UNIT_LENGTH for value in extent_temp]\n",
    "# physical time data\n",
    "T = file_data[\"t\"].values*UNIT_TIME"
   ]
  },
  {
   "cell_type": "markdown",
   "metadata": {},
   "source": [
    "Names of all directories containing data, with extra info about beta and pressure"
   ]
  },
  {
   "cell_type": "code",
   "execution_count": null,
   "metadata": {},
   "outputs": [],
   "source": [
    "sims = [\n",
    "    {\"directory\":\"beta01/\", \"beta\":0.1, \"low\":False},\n",
    "    {\"directory\":\"beta05/\", \"beta\":0.5, \"low\":False},\n",
    "    {\"directory\":\"beta1/\", \"beta\":1, \"low\":False},\n",
    "    {\"directory\":\"beta10/\", \"beta\":10, \"low\":False},\n",
    "    {\"directory\":\"low-beta01/\", \"beta\":0.1, \"low\":True},\n",
    "    {\"directory\":\"low-beta05/\", \"beta\":0.5, \"low\":True},\n",
    "    {\"directory\":\"low-beta1/\", \"beta\":1, \"low\":True},\n",
    "    {\"directory\":\"low-beta10/\", \"beta\":10, \"low\":True},\n",
    "]"
   ]
  },
  {
   "cell_type": "markdown",
   "metadata": {},
   "source": [
    "## Combined plots"
   ]
  },
  {
   "cell_type": "code",
   "execution_count": null,
   "metadata": {},
   "outputs": [],
   "source": [
    "for n in range(13:33):\n",
    "    fig, ax = plt.subplots(2,4, figsize=(16,8))\n",
    "\n",
    "    prs_array = []\n",
    "    min_prs = 1\n",
    "    max_prs = 1\n",
    "    for i in range(8):\n",
    "        DATA_DIR = \"out-raw/\" + sims[i][\"directory\"]\n",
    "        D = pp.pload(n, w_dir=DATA_DIR+\"/\")\n",
    "        if sims[i][\"low\"]:\n",
    "            var = D.prs*5/1.5\n",
    "        else:\n",
    "            var = D.prs\n",
    "        prs_array.append(var)\n",
    "        # find the min and max pressure\n",
    "        if np.min(var) < min_prs:\n",
    "            min_prs = np.min(var)\n",
    "        if np.max(var) > max_prs:\n",
    "            max_prs = np.max(var)\n",
    "        del D\n",
    "\n",
    "    for i in range(8):\n",
    "        row = i//4\n",
    "        column = i%4\n",
    "        # prevent clutter\n",
    "        ax[row][column].get_xaxis().set_visible(False)\n",
    "        ax[row][column].get_yaxis().set_visible(False)\n",
    "        if sims[i][\"low\"]:\n",
    "            im = ax[row][column].imshow(prs_array[i]*UNIT_PRESSURE, vmin=min_prs*UNIT_PRESSURE, \n",
    "                                    vmax=max_prs*UNIT_PRESSURE, cmap=\"plasma\", extent=extent)\n",
    "            ax[row][column].set_title(r\"$\\beta=$%.2f, low diff\" %sims[i][\"beta\"])\n",
    "        else:\n",
    "            im = ax[row][column].imshow(prs_array[i]*UNIT_PRESSURE, vmin=min_prs*UNIT_PRESSURE, \n",
    "                                    vmax=max_prs*UNIT_PRESSURE, cmap=\"plasma\", extent=extent)\n",
    "            ax[row][column].set_title(r\"$\\beta=$%.2f, high diff\" %sims[i][\"beta\"])\n",
    "            \n",
    "        \n",
    "    del prs_array\n",
    "\n",
    "    cbar = fig.colorbar(im, ax=ax)\n",
    "    cbar.ax.set_ylabel('density [$g/cm^3$]', rotation=270, labelpad=15.0)\n",
    "\n",
    "    # switch the axes on the side on\n",
    "    for column in range(4):\n",
    "        ax[1][column].get_xaxis().set_visible(True)\n",
    "        ax[1][column].set_xlabel(r\"distance $[cm]$\", labelpad=12.0)\n",
    "    for row in range(2):\n",
    "        ax[row][0].get_yaxis().set_visible(True)\n",
    "        ax[row][0].set_ylabel(r\"distance $[cm]$\")\n",
    "\n",
    "    fig.suptitle(\"time: %.2e s\" %T[n], y=0.96)    \n",
    "\n",
    "    #plt.tight_layout()\n",
    "\n",
    "    fig.savefig(\"out-image/combined/pressure-%02d.png\" %n, dpi=300)\n",
    "    plt.close(fig=fig)"
   ]
  },
  {
   "cell_type": "markdown",
   "metadata": {},
   "source": [
    "## Individual plots"
   ]
  },
  {
   "cell_type": "code",
   "execution_count": null,
   "metadata": {},
   "outputs": [],
   "source": [
    "sim = sims[1]\n",
    "n = 0\n",
    "\n",
    "D = pp.pload(n, w_dir=\"out-raw/\"+sim[\"directory\"])\n",
    "\n",
    "fig, ax = plt.subplots(1,1)\n",
    "\n",
    "##im=ax.imshow(np.log(plotvar[i]), vmin=np.log(MIN), vmax=np.log(MAX), cmap=\"plasma\")\n",
    "##im=ax.imshow(D.prs, cmap=\"plasma\", extent=extent, vmin=8, vmax=16)\n",
    "#im=ax.imshow(D.prs*UNIT_PRESSURE, cmap=\"viridis\", extent=extent)\n",
    "cbar = fig.colorbar(im, ax=ax)\n",
    "cbar.ax.set_ylabel('pressure [$dyne/cm^2$]', rotation=270, labelpad=15.0)\n",
    "\n",
    "\n",
    "### streamlines for magnetic field\n",
    "side = np.linspace(extent[0], extent[1], 1024)\n",
    "X, Y = np.meshgrid(side, side)\n",
    "ax.streamplot(X, Y, D.Bx1, D.Bx2, maxlength=2000, linewidth=1, \n",
    "              color=np.sqrt(D.Bx1**2+D.Bx2**2), \n",
    "              density=4, arrowsize=0, cmap=\"winter\")\n",
    "\n",
    "if sim[\"low\"]:\n",
    "    plt.title(r\"low pressure difference; $\\beta=$ %f; time: %.3e s\" %(sim[\"beta\"],T [n]), pad=15.0)\n",
    "else:\n",
    "    plt.title(r\"high pressure difference; $\\beta=$ %f; time: %.3e s\" %(sim[\"beta\"], T[n]), pad=15.0)\n",
    "ax.set_xlabel(\"x-axis [cm]\")\n",
    "ax.set_ylabel(\"y-axis [cm]\")\n"
   ]
  },
  {
   "cell_type": "code",
   "execution_count": null,
   "metadata": {},
   "outputs": [],
   "source": [
    "img = imread('test-image.png')\n",
    "\n",
    "plt.imshow(img)"
   ]
  }
 ],
 "metadata": {
  "kernelspec": {
   "display_name": "Python 3",
   "language": "python",
   "name": "python3"
  },
  "language_info": {
   "codemirror_mode": {
    "name": "ipython",
    "version": 3
   },
   "file_extension": ".py",
   "mimetype": "text/x-python",
   "name": "python",
   "nbconvert_exporter": "python",
   "pygments_lexer": "ipython3",
   "version": "3.8.2"
  }
 },
 "nbformat": 4,
 "nbformat_minor": 4
}
