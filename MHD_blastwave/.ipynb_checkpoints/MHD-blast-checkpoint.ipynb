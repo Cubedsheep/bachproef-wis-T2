{
 "cells": [
  {
   "cell_type": "code",
   "execution_count": 1,
   "metadata": {},
   "outputs": [],
   "source": [
    "import script.pyPLUTO as pp\n",
    "import matplotlib.pyplot as plt\n",
    "import matplotlib as mpl\n",
    "\n",
    "import numpy as np"
   ]
  },
  {
   "cell_type": "code",
   "execution_count": 2,
   "metadata": {},
   "outputs": [],
   "source": [
    "mpl.rcParams[\"figure.dpi\"] = 150\n",
    "FOLDER = \"beta05\"\n",
    "N = 63"
   ]
  },
  {
   "cell_type": "code",
   "execution_count": 3,
   "metadata": {},
   "outputs": [
    {
     "name": "stdout",
     "output_type": "stream",
     "text": [
      "Reading Data file : beta05/data.0000.dbl\n",
      "Reading Data file : beta05/data.0001.dbl\n",
      "Reading Data file : beta05/data.0002.dbl\n",
      "Reading Data file : beta05/data.0003.dbl\n",
      "Reading Data file : beta05/data.0004.dbl\n",
      "Reading Data file : beta05/data.0005.dbl\n",
      "Reading Data file : beta05/data.0006.dbl\n",
      "Reading Data file : beta05/data.0007.dbl\n",
      "Reading Data file : beta05/data.0008.dbl\n",
      "Reading Data file : beta05/data.0009.dbl\n",
      "Reading Data file : beta05/data.0010.dbl\n",
      "Reading Data file : beta05/data.0011.dbl\n",
      "Reading Data file : beta05/data.0012.dbl\n",
      "Reading Data file : beta05/data.0013.dbl\n",
      "Reading Data file : beta05/data.0014.dbl\n",
      "Reading Data file : beta05/data.0015.dbl\n",
      "Reading Data file : beta05/data.0016.dbl\n",
      "Reading Data file : beta05/data.0017.dbl\n",
      "Reading Data file : beta05/data.0018.dbl\n",
      "Reading Data file : beta05/data.0019.dbl\n",
      "Reading Data file : beta05/data.0020.dbl\n",
      "Reading Data file : beta05/data.0021.dbl\n",
      "Reading Data file : beta05/data.0022.dbl\n",
      "Reading Data file : beta05/data.0023.dbl\n",
      "Reading Data file : beta05/data.0024.dbl\n",
      "Reading Data file : beta05/data.0025.dbl\n",
      "Reading Data file : beta05/data.0026.dbl\n",
      "Reading Data file : beta05/data.0027.dbl\n",
      "Reading Data file : beta05/data.0028.dbl\n",
      "Reading Data file : beta05/data.0029.dbl\n",
      "Reading Data file : beta05/data.0030.dbl\n",
      "Reading Data file : beta05/data.0031.dbl\n",
      "Reading Data file : beta05/data.0032.dbl\n",
      "Reading Data file : beta05/data.0033.dbl\n",
      "Reading Data file : beta05/data.0034.dbl\n",
      "Reading Data file : beta05/data.0035.dbl\n",
      "Reading Data file : beta05/data.0036.dbl\n",
      "Reading Data file : beta05/data.0037.dbl\n",
      "Reading Data file : beta05/data.0038.dbl\n",
      "Reading Data file : beta05/data.0039.dbl\n",
      "Reading Data file : beta05/data.0040.dbl\n",
      "Reading Data file : beta05/data.0041.dbl\n",
      "Reading Data file : beta05/data.0042.dbl\n",
      "Reading Data file : beta05/data.0043.dbl\n",
      "Reading Data file : beta05/data.0044.dbl\n",
      "Reading Data file : beta05/data.0045.dbl\n",
      "Reading Data file : beta05/data.0046.dbl\n",
      "Reading Data file : beta05/data.0047.dbl\n",
      "Reading Data file : beta05/data.0048.dbl\n",
      "Reading Data file : beta05/data.0049.dbl\n",
      "Reading Data file : beta05/data.0050.dbl\n",
      "Reading Data file : beta05/data.0051.dbl\n",
      "Reading Data file : beta05/data.0052.dbl\n",
      "Reading Data file : beta05/data.0053.dbl\n",
      "Reading Data file : beta05/data.0054.dbl\n",
      "Reading Data file : beta05/data.0055.dbl\n",
      "Reading Data file : beta05/data.0056.dbl\n",
      "Reading Data file : beta05/data.0057.dbl\n",
      "Reading Data file : beta05/data.0058.dbl\n",
      "Reading Data file : beta05/data.0059.dbl\n",
      "Reading Data file : beta05/data.0060.dbl\n",
      "Reading Data file : beta05/data.0061.dbl\n",
      "Reading Data file : beta05/data.0062.dbl\n"
     ]
    }
   ],
   "source": [
    "#rho = []\n",
    "#vx = []\n",
    "#vy = []\n",
    "prs = []\n",
    "\n",
    "for i in range(N):\n",
    "    D = pp.pload(i, w_dir=FOLDER+\"/\")\n",
    "    #rho.append(D.rho)\n",
    "    #vx.append(D.vx1)\n",
    "    #vy.append(D.vx2)\n",
    "    prs.append(D.prs)"
   ]
  },
  {
   "cell_type": "code",
   "execution_count": 4,
   "metadata": {},
   "outputs": [],
   "source": [
    "MAX = 0\n",
    "MIN = 10\n",
    "\n",
    "plotvar = prs\n",
    "\n",
    "for i in range(N):\n",
    "    m = np.min(plotvar[i])\n",
    "    M = np.max(plotvar[i])\n",
    "    if (m<MIN):\n",
    "        MIN=m\n",
    "    if M>MAX:\n",
    "        MAX=M"
   ]
  },
  {
   "cell_type": "code",
   "execution_count": 5,
   "metadata": {},
   "outputs": [
    {
     "name": "stdout",
     "output_type": "stream",
     "text": [
      "0\n",
      "10\n",
      "20\n",
      "30\n",
      "40\n",
      "50\n",
      "60\n"
     ]
    }
   ],
   "source": [
    "for i in range(N):\n",
    "    fig, ax = plt.subplots(1,1)\n",
    "    \n",
    "    #im=ax.imshow(np.log(plotvar[i]), vmin=np.log(MIN), vmax=np.log(MAX), cmap=\"plasma\")\n",
    "    im=ax.imshow(plotvar[i], vmin=MIN, vmax=MAX, cmap=\"plasma\")\n",
    "\n",
    "    \n",
    "    fig.colorbar(im, ax=ax)\n",
    "\n",
    "    plt.title(\"time: %.4f s\"%(i*0.0005))\n",
    "    \n",
    "    fig.savefig(FOLDER+\"-images/prs-linear%04i.png\"%i)\n",
    "    \n",
    "    plt.close(fig=fig)\n",
    "    \n",
    "    if i%10 == 0:\n",
    "        print(i)"
   ]
  }
 ],
 "metadata": {
  "kernelspec": {
   "display_name": "Python 3",
   "language": "python",
   "name": "python3"
  },
  "language_info": {
   "codemirror_mode": {
    "name": "ipython",
    "version": 3
   },
   "file_extension": ".py",
   "mimetype": "text/x-python",
   "name": "python",
   "nbconvert_exporter": "python",
   "pygments_lexer": "ipython3",
   "version": "3.8.2"
  }
 },
 "nbformat": 4,
 "nbformat_minor": 4
}
