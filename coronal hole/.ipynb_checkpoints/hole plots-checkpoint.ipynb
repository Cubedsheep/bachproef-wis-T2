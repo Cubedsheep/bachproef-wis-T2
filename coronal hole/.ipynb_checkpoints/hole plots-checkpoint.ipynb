{
 "cells": [
  {
   "cell_type": "markdown",
   "metadata": {},
   "source": [
    "# Plots boundary conditions"
   ]
  },
  {
   "cell_type": "markdown",
   "metadata": {},
   "source": [
    "Import packages"
   ]
  },
  {
   "cell_type": "code",
   "execution_count": 1,
   "metadata": {
    "jupyter": {
     "source_hidden": true
    }
   },
   "outputs": [],
   "source": [
    "import script.pyPLUTO as pp\n",
    "import matplotlib.pyplot as plt\n",
    "import matplotlib as mpl\n",
    "from matplotlib.image import imread\n",
    "\n",
    "import numpy as np\n",
    "import pandas as pd\n",
    "\n",
    "# some commonly used constants\n",
    "CONST_mp = 1.67262171e-24  # gr"
   ]
  },
  {
   "cell_type": "markdown",
   "metadata": {},
   "source": [
    "Settings matplotlib"
   ]
  },
  {
   "cell_type": "code",
   "execution_count": 2,
   "metadata": {
    "jupyter": {
     "source_hidden": true
    }
   },
   "outputs": [],
   "source": [
    "mpl.rcParams[\"figure.dpi\"] = 150    # about the dpi for a 15 inch 1080p laptop, makes sure the displayed plots are the real size \n",
    "#mpl.rcParams[\"figure.dpi\"] = 600\n",
    "\n",
    "mpl.rcParams[\"figure.figsize\"] = (6, 3.5)\n",
    "mpl.rcParams[\"axes.labelsize\"] = 12\n",
    "\n",
    "mpl.rcParams[\"axes.formatter.limits\"] = (-4, 4)\n",
    "\n",
    "mpl.rcParams[\"axes.prop_cycle\"] = mpl.cycler(color=[\"xkcd:royal blue\", \"xkcd:vermillion\", \"xkcd:orange\", \n",
    "                                                    \"xkcd:magenta\", \"xkcd:lime\", \"xkcd:yellow\", \"grey\"])\n",
    "\n",
    "mpl.rcParams[\"lines.linewidth\"] = 2\n",
    "mpl.rcParams[\"axes.linewidth\"] = .5\n",
    "\n",
    "mpl.rcParams[\"font.size\"] = 12\n",
    "\n",
    "mpl.rcParams[\"text.usetex\"] = True\n",
    "\n",
    "\n",
    "#mpl.rcParams[\"figure.facecolor\"] = \"#fffbf0\"\n",
    "#mpl.rcParams[\"axes.facecolor\"] = \"#fffbf0\"\n",
    "#mpl.rcParams[\"savefig.facecolor\"] = '#fffbf0'"
   ]
  },
  {
   "cell_type": "markdown",
   "metadata": {},
   "source": [
    "Usefull functions"
   ]
  },
  {
   "cell_type": "code",
   "execution_count": 3,
   "metadata": {
    "jupyter": {
     "source_hidden": true
    }
   },
   "outputs": [],
   "source": [
    "def get_extent(file, firstline):\n",
    "    \"\"\"this functions retrieves the extent of the grid (in code-units) and number of points from the grid.out \n",
    "    file in one dimension (starting at firstline)\n",
    "    \n",
    "    file: the grid.out file\n",
    "    firstline: the line in the file to look for the number of points in that dimension\"\"\"\n",
    "    with open(file, \"r\") as gridfile:\n",
    "        lines = gridfile.readlines()\n",
    "        # get the number of points\n",
    "        NUM_POINTS = int(lines[firstline])\n",
    "\n",
    "        # get the extent of the x-axis (in code units)\n",
    "        # the first line of the grid, so minimum coordinate\n",
    "        line = lines[firstline+1]\n",
    "        parts = line.split()\n",
    "        # remove the spaces\n",
    "        for part in parts:\n",
    "            if part == \" \":\n",
    "                del part\n",
    "        d_min = float(parts[1])\n",
    "        # the last line\n",
    "        line = lines[firstline+NUM_POINTS]\n",
    "        parts = line.split()\n",
    "        # remove the spaces\n",
    "        for part in parts:\n",
    "            if part == \" \":\n",
    "                del part\n",
    "        d_max = float(parts[2])\n",
    "    \n",
    "    return (NUM_POINTS, (d_min, d_max))"
   ]
  },
  {
   "cell_type": "markdown",
   "metadata": {},
   "source": [
    "Import metadata about the output such as the time corresponding to each files and conversion factors from code units to physical units"
   ]
  },
  {
   "cell_type": "code",
   "execution_count": 4,
   "metadata": {
    "jupyter": {
     "source_hidden": true
    }
   },
   "outputs": [],
   "source": [
    "# specify the directories where the data is stored and where the output should be stored\n",
    "DATA_DIR = \"data/hole-raw/\"\n",
    "OUT_DIR = \"data/images/density/\"\n",
    "\n",
    "# get info about the stored data\n",
    "file_data = pd.read_csv(DATA_DIR+\"dbl.out\", sep=\" \", names=[\"index\", \"t\", \"dt\", \"step\", \"type\", \"little\", \"rho\",\n",
    "                                                            \"vx1\", \"vx2\", \"vx3\", \"Bx1\", \"Bx2\", \"Bx3\", \"prs\", \"psi_glm\", \"empty\"])\n",
    "# delete columns that are not needed\n",
    "for column in [\"index\", \"type\", \"little\", \"rho\", \"vx1\", \"vx2\", \"vx3\", \"Bx1\", \"Bx2\", \"Bx3\", \"prs\", \"psi_glm\", \"empty\"]:\n",
    "    del file_data[column]\n",
    "\n",
    "# define the conversion factors\n",
    "UNIT_NUMBER_DENSITY = 1e9\n",
    "UNIT_DENSITY = UNIT_NUMBER_DENSITY*CONST_mp\n",
    "UNIT_LENGTH = 1e8 # cm\n",
    "UNIT_VELOCITY = 1e8 # cm/s\n",
    "\n",
    "X_POINTS = 0\n",
    "Y_POINTS = 0\n",
    "X_EXTENT = (0,0)\n",
    "Y_EXTENT = (0,0)\n",
    "\n",
    "# get the extend of the grid\n",
    "# get the extent of the x-axis (in code units)\n",
    "X_POINTS, X_EXTENT = get_extent(DATA_DIR+\"grid.out\", 9)\n",
    "# get the extent of the y-axis\n",
    "Y_POINTS, Y_EXTENT = get_extent(DATA_DIR+\"grid.out\", 10+X_POINTS)\n",
    "\n",
    "# number of files saved\n",
    "N = len(file_data[\"t\"])\n",
    "\n",
    "T = file_data[\"t\"].values\n",
    "extent_temp = X_EXTENT + Y_EXTENT\n",
    "extent = [value*UNIT_LENGTH*1e-11 for value in extent_temp]"
   ]
  },
  {
   "cell_type": "markdown",
   "metadata": {},
   "source": [
    "## Initial condition hole"
   ]
  },
  {
   "cell_type": "code",
   "execution_count": 5,
   "metadata": {},
   "outputs": [],
   "source": [
    "def velocity(t, T0, v0, a0, a1):\n",
    "    return v0*np.tanh(t/a0) - v0/2*(np.tanh((t-T0)/a1)+1)"
   ]
  },
  {
   "cell_type": "code",
   "execution_count": null,
   "metadata": {},
   "outputs": [
    {
     "name": "stdout",
     "output_type": "stream",
     "text": [
      "Reading Data file : data/hole-raw/data.0000.dbl\n"
     ]
    }
   ],
   "source": [
    "mpl.rcParams[\"lines.linewidth\"] = 1\n",
    "\n",
    "side = 500\n",
    "diam = 150\n",
    "n_out = 1e9\n",
    "n_in = 1e8\n",
    "R = np.linspace(-side,side,1000)\n",
    "\n",
    "# import data\n",
    "D = pp.pload(0, w_dir=DATA_DIR)\n",
    "X = np.linspace(X_EXTENT[0], X_EXTENT[1], 1024)\n",
    "START = int(1/4*X_POINTS)\n",
    "END = int(3/4*X_POINTS)\n",
    "SECTION = int(1/2*X_POINTS)\n",
    "\n",
    "fig, ax = plt.subplots(1,4, figsize=(8,2))\n",
    "\n",
    "# density and magnetic field\n",
    "axis = ax[1]\n",
    "axis.plot(X[START:END], D.rho[SECTION,START:END]*10, linestyle=\"-\")\n",
    "axis.plot(X[START:END], D.Bx3[SECTION,START:END]*np.sqrt(4*np.pi*UNIT_DENSITY)*UNIT_VELOCITY, \n",
    "          linestyle=\"--\")\n",
    "axis.set_title(r\"$n, B$\")\n",
    "axis.yaxis.set_minor_locator(mpl.ticker.AutoMinorLocator())\n",
    "axis.xaxis.set_minor_locator(mpl.ticker.AutoMinorLocator())\n",
    "\n",
    "# plasma beta\n",
    "axis = ax[0]\n",
    "axis.plot(X[START:END], D.prs[SECTION,START:END]/(D.Bx3[SECTION,START:END]**2/2))\n",
    "axis.set_title(r\"$\\beta$\")\n",
    "axis.yaxis.set_minor_locator(mpl.ticker.AutoMinorLocator())\n",
    "axis.xaxis.set_minor_locator(mpl.ticker.AutoMinorLocator())\n",
    "axis.set_ylim(0,2.2)\n",
    "\n",
    "# speeds\n",
    "axis = ax[2]\n",
    "sound = np.sqrt(D.prs/D.rho*5/3)\n",
    "axis.plot(X[START:END], sound[SECTION,START:END], label=r\"$v_s$\")\n",
    "alfven = D.Bx3/np.sqrt(D.rho)\n",
    "vplus = np.sqrt(sound**2+alfven**2)\n",
    "axis.plot(X[START:END], vplus[SECTION,START:END], \"k-.\")\n",
    "axis.plot(X[START:END], alfven[SECTION,START:END], linestyle=\"--\", label=r\"$v_a$\")\n",
    "axis.set_ylabel(\"[$1000$ km/s]\")\n",
    "axis.yaxis.set_minor_locator(mpl.ticker.AutoMinorLocator())\n",
    "axis.xaxis.set_minor_locator(mpl.ticker.AutoMinorLocator())\n",
    "axis.set_title(\"characteristic speeds\")\n",
    "axis.set_ylim(0,1.2)\n",
    "\n",
    "# wave driver\n",
    "axis = ax[3]\n",
    "#axis.plot(T, velocity(T, 600, 50, 20, 60), label=\"hole\")\n",
    "T1 = np.linspace(0,800,1000)\n",
    "axis.plot(T1, velocity(T1, 600, 50, 20, 60), \"--\", label=\"plume\")\n",
    "axis.set_title(\"wave driver\")\n",
    "axis.set_xlabel(\"time [s]\")\n",
    "axis.set_ylabel(\"speed [km/s]\")\n",
    "#axis.legend()\n",
    "axis.yaxis.set_minor_locator(mpl.ticker.AutoMinorLocator())\n",
    "axis.xaxis.set_minor_locator(mpl.ticker.AutoMinorLocator())\n",
    "axis.set_ylim(0,130)\n",
    "\n",
    "fig.text(0.38, 0.07, r\"distance [$10^8$cm]\", ha=\"center\")\n",
    "\n",
    "plt.tight_layout()\n",
    "plt.show()\n",
    "\n",
    "fig.savefig(\"../verslag/images/sections-initial-condition-hole.pdf\")"
   ]
  },
  {
   "cell_type": "markdown",
   "metadata": {},
   "source": [
    "## Frames density "
   ]
  },
  {
   "cell_type": "code",
   "execution_count": null,
   "metadata": {},
   "outputs": [],
   "source": [
    "## preparation\n",
    "\n",
    "T = file_data[\"t\"].values\n",
    "extent_temp = X_EXTENT + Y_EXTENT\n",
    "extent = [value*UNIT_LENGTH*1e-11 for value in extent_temp]\n",
    "\n",
    "# region cut out for wave inside of plume\n",
    "# select region\n",
    "MIN = 400\n",
    "MAX = 624\n",
    "min_coord = (X_EXTENT[0] + (X_EXTENT[1]-X_EXTENT[0])*MIN/1024)/(1000)\n",
    "max_coord = (X_EXTENT[0] + (X_EXTENT[1]-X_EXTENT[0])*MAX/1024)/(1000)\n",
    "# pressure inside plume\n",
    "ex = [value*UNIT_LENGTH*(MAX-MIN)/1023*1e-11 for value in extent_temp]\n",
    "# circle of characteristic diameter\n",
    "d = 150/X_EXTENT[1]\n",
    "THETA = np.linspace(0,2*np.pi,1000)\n",
    "X_circ = d*np.cos(THETA)\n",
    "Y_circ = d*np.sin(THETA)\n",
    "\n",
    "indicies = [87, 100, 102, 119, 137, 200]\n",
    "D_arr = [pp.pload(i, DATA_DIR) for i in indicies]"
   ]
  },
  {
   "cell_type": "code",
   "execution_count": null,
   "metadata": {},
   "outputs": [],
   "source": [
    "fig, ax = plt.subplots(3,4,figsize=(8,5))\n",
    "\n",
    "for i in range(6):\n",
    "    axis_out = ax[i//2][2*(i%2)]\n",
    "    axis_in = ax[i//2][2*(i%2)+1]\n",
    "    D = D_arr[i]\n",
    "    \n",
    "    n = indicies[i]\n",
    "    \n",
    "    ### outside view\n",
    "     # select cutoffs\n",
    "    vmin=0.98\n",
    "    vmax=1.08\n",
    "\n",
    "    # pressure outside plume\n",
    "    axis = axis_out\n",
    "    im=axis.imshow(np.transpose(D.rho), vmin=vmin, vmax=vmax, extent=extent, cmap=\"gnuplot\")\n",
    "    cbar = fig.colorbar(im, ax=axis, fraction=0.0465, pad=0.02)\n",
    "    #cbar.ax.set_ylabel('Density [code units]', rotation=270, fontsize=12, labelpad=15)\n",
    "    axis.set_title(\"t=%.2e\"%T[n], fontsize=12)\n",
    "    # draw box of the inset\n",
    "    axis.plot([min_coord, min_coord], [min_coord, max_coord], \"w--\", lw=0.5)\n",
    "    axis.plot([min_coord, max_coord], [max_coord, max_coord], \"w--\", lw=0.5)\n",
    "    axis.plot([max_coord, max_coord], [max_coord, min_coord], \"w--\", lw=0.5)\n",
    "    axis.plot([max_coord, min_coord], [min_coord, min_coord], \"w--\", lw=0.5)\n",
    "    # draw the circle of characteristic width for the plume/hole\n",
    "    #axis.plot(X_circ,Y_circ,\"-.k\",lw=0.5)\n",
    "    # small ticks\n",
    "    axis.yaxis.set_minor_locator(mpl.ticker.AutoMinorLocator())\n",
    "    axis.xaxis.set_minor_locator(mpl.ticker.AutoMinorLocator())\n",
    "    axis.set_xticklabels([])\n",
    "    axis.set_yticklabels([])\n",
    "    \n",
    "    ### inside view\n",
    "    # select cutoffs\n",
    "    vmin = 0.08\n",
    "    vmax = 0.15\n",
    "    if (i == 1) or (i==2):\n",
    "        vmin = 0.098\n",
    "        vmax = 0.105\n",
    "\n",
    "    # pressure inside plume\n",
    "    axis = axis_in\n",
    "    im=axis.imshow(np.transpose(D.rho[MIN:MAX,MIN:MAX]), vmin=vmin, vmax=vmax, extent=ex, cmap=\"gnuplot_r\")\n",
    "    cbar = fig.colorbar(im, ax=axis, fraction=0.0465, pad=0.02)\n",
    "    #cbar.ax.set_ylabel('Density [code units]', rotation=270, fontsize=12, labelpad=15)\n",
    "    #axis.set_title(\"Density inside plume\", fontsize=16)\n",
    "    axis.plot(X_circ,Y_circ,\"-.w\",lw=0.5)\n",
    "    axis.set_title(\"t=%.2e\"%T[n], fontsize=12)\n",
    "    axis.yaxis.set_minor_locator(mpl.ticker.AutoMinorLocator())\n",
    "    axis.xaxis.set_minor_locator(mpl.ticker.AutoMinorLocator())\n",
    "    axis.set_xticklabels([])\n",
    "    axis.set_yticklabels([])\n",
    "    \n",
    "plt.tight_layout()\n",
    "plt.show()\n",
    "\n",
    "fig.savefig(\"../verslag/images/hole-frames.pdf\", dpi=300)"
   ]
  },
  {
   "cell_type": "markdown",
   "metadata": {},
   "source": [
    "## Sections"
   ]
  },
  {
   "cell_type": "code",
   "execution_count": null,
   "metadata": {},
   "outputs": [],
   "source": [
    "X = np.linspace(X_EXTENT[0], X_EXTENT[1], X_POINTS)\n",
    "ref = pp.pload(0, DATA_DIR)\n",
    "SECTION = int(1/2*X_POINTS)\n",
    "\n",
    "colors = [\"xkcd:royal blue\", \"xkcd:vermillion\", \"xkcd:lime\", \n",
    "          \"xkcd:magenta\", \"xkcd:orange\", \"grey\"]\n",
    "\n",
    "indicies = [40, 97, 100, 102, 125, 170]\n",
    "D_arr = [pp.pload(i, DATA_DIR) for i in indicies]\n",
    "\n",
    "linestyles = [\"-\", \"--\", \"-.\"]"
   ]
  },
  {
   "cell_type": "code",
   "execution_count": null,
   "metadata": {},
   "outputs": [],
   "source": [
    "fig, ax = plt.subplots(3,1, figsize=(8,5))\n",
    "\n",
    "for i in range(6):\n",
    "    D = D_arr[i]\n",
    "    color=colors[i]\n",
    "    \n",
    "    # find the front of the wave\n",
    "    large = (D.rho[:,0]/ref.rho[:,0])>1.05 # the large excitations\n",
    "    indexes = np.where(large == 1)\n",
    "    try:\n",
    "        index = indexes[0][-1]\n",
    "        physical_position = X_EXTENT[0] + (X_EXTENT[1]-X_EXTENT[0])*index/X_POINTS\n",
    "    except:\n",
    "        physical_position = X_EXTENT[1]\n",
    "        \n",
    "    # outside 1\n",
    "    if (i<3):\n",
    "        axis = ax[0]\n",
    "        axis.plot(X, D.rho[:,SECTION], color=color)\n",
    "        axis.plot([physical_position, physical_position], [-10,10], '--', color=color, \n",
    "                  label=\"t=%.2e\"%T[indicies[i]])\n",
    "\n",
    "    # outside 2\n",
    "    if (i>2):\n",
    "        axis = ax[1]\n",
    "        axis.plot(X, D.rho[:,SECTION], color=color)\n",
    "        axis.plot([physical_position, physical_position], [-10,10], '--', color=color,\n",
    "                 label=\"t=%.2e\"%T[indicies[i]])\n",
    "\n",
    "    # inside - absolute positions\n",
    "    axis=ax[2]\n",
    "    axis.plot(X, D.rho[:,SECTION], color=color)\n",
    "    axis.plot([physical_position, physical_position], [-10,10], '--', color=color)\n",
    "    \n",
    "# lay-out first plot\n",
    "axis = ax[0]\n",
    "axis.set_ylim(0.97,1.08)\n",
    "axis.set_xticklabels([])\n",
    "axis.set_ylabel(r\"density [$10^9 cm^{-3}$]\")\n",
    "axis.yaxis.set_minor_locator(mpl.ticker.AutoMinorLocator())\n",
    "axis.xaxis.set_minor_locator(mpl.ticker.AutoMinorLocator())\n",
    "axis.legend(loc=\"upper right\", fontsize=10)\n",
    "\n",
    "# lay-out second plot\n",
    "axis = ax[1]\n",
    "axis.set_ylim(0.97,1.08)\n",
    "#axis.set_xticklabels([])\n",
    "axis.set_ylabel(r\"density [$10^9 cm^{-3}$]\")\n",
    "axis.yaxis.set_minor_locator(mpl.ticker.AutoMinorLocator())\n",
    "axis.xaxis.set_minor_locator(mpl.ticker.AutoMinorLocator())\n",
    "axis.legend(loc=\"upper left\", fontsize=10)\n",
    "\n",
    "# lay-out third plot\n",
    "axis = ax[2]\n",
    "axis.set_ylim(0.0995,0.11)\n",
    "axis.set_xlim(-150,150)\n",
    "axis.set_ylabel(r\"density [$10^9 cm^{-3}$]\")\n",
    "axis.set_xlabel(r\"distance [$10^{11}$ cm]\")\n",
    "axis.yaxis.set_minor_locator(mpl.ticker.AutoMinorLocator())\n",
    "axis.xaxis.set_minor_locator(mpl.ticker.AutoMinorLocator())\n",
    "\n",
    "plt.tight_layout()\n",
    "\n",
    "fig.savefig(\"../verslag/images/hole-sections.pdf\")"
   ]
  }
 ],
 "metadata": {
  "kernelspec": {
   "display_name": "Python 3",
   "language": "python",
   "name": "python3"
  },
  "language_info": {
   "codemirror_mode": {
    "name": "ipython",
    "version": 3
   },
   "file_extension": ".py",
   "mimetype": "text/x-python",
   "name": "python",
   "nbconvert_exporter": "python",
   "pygments_lexer": "ipython3",
   "version": "3.8.2"
  }
 },
 "nbformat": 4,
 "nbformat_minor": 4
}
