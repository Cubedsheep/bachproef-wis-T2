{
 "cells": [
  {
   "cell_type": "markdown",
   "metadata": {},
   "source": [
    "# Plots boundary conditions"
   ]
  },
  {
   "cell_type": "markdown",
   "metadata": {},
   "source": [
    "Import packages"
   ]
  },
  {
   "cell_type": "code",
   "execution_count": 1,
   "metadata": {
    "jupyter": {
     "source_hidden": true
    }
   },
   "outputs": [],
   "source": [
    "import script.pyPLUTO as pp\n",
    "import matplotlib.pyplot as plt\n",
    "import matplotlib as mpl\n",
    "from matplotlib.image import imread\n",
    "\n",
    "import numpy as np\n",
    "import pandas as pd\n",
    "\n",
    "# some commonly used constants\n",
    "CONST_mp = 1.67262171e-24  # gr"
   ]
  },
  {
   "cell_type": "markdown",
   "metadata": {},
   "source": [
    "Settings matplotlib"
   ]
  },
  {
   "cell_type": "code",
   "execution_count": 2,
   "metadata": {
    "jupyter": {
     "source_hidden": true
    }
   },
   "outputs": [],
   "source": [
    "mpl.rcParams[\"figure.dpi\"] = 150    # about the dpi for a 15 inch 1080p laptop, makes sure the displayed plots are the real size \n",
    "#mpl.rcParams[\"figure.dpi\"] = 600\n",
    "\n",
    "mpl.rcParams[\"figure.figsize\"] = (6, 3.5)\n",
    "mpl.rcParams[\"axes.labelsize\"] = 12\n",
    "\n",
    "mpl.rcParams[\"axes.formatter.limits\"] = (-4, 4)\n",
    "\n",
    "mpl.rcParams[\"axes.prop_cycle\"] = mpl.cycler(color=[\"xkcd:royal blue\", \"xkcd:vermillion\", \"xkcd:orange\", \n",
    "                                                    \"xkcd:magenta\", \"xkcd:lime\", \"xkcd:yellow\", \"grey\"])\n",
    "\n",
    "mpl.rcParams[\"lines.linewidth\"] = 2\n",
    "mpl.rcParams[\"axes.linewidth\"] = .5\n",
    "\n",
    "mpl.rcParams[\"font.size\"] = 12\n",
    "\n",
    "mpl.rcParams[\"text.usetex\"] = True\n",
    "\n",
    "\n",
    "#mpl.rcParams[\"figure.facecolor\"] = \"#fffbf0\"\n",
    "#mpl.rcParams[\"axes.facecolor\"] = \"#fffbf0\"\n",
    "#mpl.rcParams[\"savefig.facecolor\"] = '#fffbf0'"
   ]
  },
  {
   "cell_type": "markdown",
   "metadata": {},
   "source": [
    "Usefull functions"
   ]
  },
  {
   "cell_type": "code",
   "execution_count": 3,
   "metadata": {
    "jupyter": {
     "source_hidden": true
    }
   },
   "outputs": [],
   "source": [
    "def get_extent(file, firstline):\n",
    "    \"\"\"this functions retrieves the extent of the grid (in code-units) and number of points from the grid.out \n",
    "    file in one dimension (starting at firstline)\n",
    "    \n",
    "    file: the grid.out file\n",
    "    firstline: the line in the file to look for the number of points in that dimension\"\"\"\n",
    "    with open(file, \"r\") as gridfile:\n",
    "        lines = gridfile.readlines()\n",
    "        # get the number of points\n",
    "        NUM_POINTS = int(lines[firstline])\n",
    "\n",
    "        # get the extent of the x-axis (in code units)\n",
    "        # the first line of the grid, so minimum coordinate\n",
    "        line = lines[firstline+1]\n",
    "        parts = line.split()\n",
    "        # remove the spaces\n",
    "        for part in parts:\n",
    "            if part == \" \":\n",
    "                del part\n",
    "        d_min = float(parts[1])\n",
    "        # the last line\n",
    "        line = lines[firstline+NUM_POINTS]\n",
    "        parts = line.split()\n",
    "        # remove the spaces\n",
    "        for part in parts:\n",
    "            if part == \" \":\n",
    "                del part\n",
    "        d_max = float(parts[2])\n",
    "    \n",
    "    return (NUM_POINTS, (d_min, d_max))"
   ]
  },
  {
   "cell_type": "markdown",
   "metadata": {},
   "source": [
    "Import metadata about the output such as the time corresponding to each files and conversion factors from code units to physical units"
   ]
  },
  {
   "cell_type": "code",
   "execution_count": 4,
   "metadata": {
    "jupyter": {
     "source_hidden": true
    }
   },
   "outputs": [],
   "source": [
    "# specify the directories where the data is stored and where the output should be stored\n",
    "DATA_DIR = \"data/plume-raw/\"\n",
    "OUT_DIR = \"data/images/density/\"\n",
    "\n",
    "# get info about the stored data\n",
    "file_data = pd.read_csv(DATA_DIR+\"dbl.out\", sep=\" \", names=[\"index\", \"t\", \"dt\", \"step\", \"type\", \"little\", \"rho\",\n",
    "                                                            \"vx1\", \"vx2\", \"vx3\", \"Bx1\", \"Bx2\", \"Bx3\", \"prs\", \"psi_glm\", \"empty\"])\n",
    "# delete columns that are not needed\n",
    "for column in [\"index\", \"type\", \"little\", \"rho\", \"vx1\", \"vx2\", \"vx3\", \"Bx1\", \"Bx2\", \"Bx3\", \"prs\", \"psi_glm\", \"empty\"]:\n",
    "    del file_data[column]\n",
    "\n",
    "# define the conversion factors\n",
    "UNIT_NUMBER_DENSITY = 1e9\n",
    "UNIT_DENSITY = UNIT_NUMBER_DENSITY*CONST_mp\n",
    "UNIT_LENGTH = 1e8 # cm\n",
    "UNIT_VELOCITY = 1e8 # cm/s\n",
    "\n",
    "X_POINTS = 0\n",
    "Y_POINTS = 0\n",
    "X_EXTENT = (0,0)\n",
    "Y_EXTENT = (0,0)\n",
    "\n",
    "# get the extend of the grid\n",
    "# get the extent of the x-axis (in code units)\n",
    "X_POINTS, X_EXTENT = get_extent(DATA_DIR+\"grid.out\", 9)\n",
    "# get the extent of the y-axis\n",
    "Y_POINTS, Y_EXTENT = get_extent(DATA_DIR+\"grid.out\", 10+X_POINTS)\n",
    "\n",
    "# number of files saved\n",
    "N = len(file_data[\"t\"])"
   ]
  },
  {
   "cell_type": "markdown",
   "metadata": {},
   "source": [
    "## Initial condition hole"
   ]
  },
  {
   "cell_type": "code",
   "execution_count": 5,
   "metadata": {},
   "outputs": [],
   "source": [
    "def n(r, d, n_out, n_in):\n",
    "    return n_out - (n_out-n_in)*np.exp(-(r/d)**8)"
   ]
  },
  {
   "cell_type": "code",
   "execution_count": 6,
   "metadata": {},
   "outputs": [
    {
     "name": "stdout",
     "output_type": "stream",
     "text": [
      "Reading Data file : data/plume-raw/data.0000.dbl\n"
     ]
    },
    {
     "data": {
      "image/png": "[encoded data removed]",
      "text/plain": [
       "<Figure size 900x300 with 3 Axes>"
      ]
     },
     "metadata": {
      "needs_background": "light"
     },
     "output_type": "display_data"
    }
   ],
   "source": [
    "mpl.rcParams[\"lines.linewidth\"] = 1\n",
    "\n",
    "side = 500\n",
    "diam = 150\n",
    "n_out = 1e9\n",
    "n_in = 1e8\n",
    "R = np.linspace(-side,side,1000)\n",
    "N = n(R, diam, n_out, n_in)\n",
    "\n",
    "# import data\n",
    "D = pp.pload(0, w_dir=DATA_DIR)\n",
    "X = np.linspace(X_EXTENT[0], X_EXTENT[1], 1024)\n",
    "START = 256\n",
    "END = 768\n",
    "SECTION = 512\n",
    "\n",
    "fig, ax = plt.subplots(1,3, figsize=(6,2))\n",
    "\n",
    "# density and magnetic field\n",
    "axis = ax[0]\n",
    "axis.plot(X[START:END], D.rho[SECTION,START:END]*10, linestyle=\"-\")\n",
    "axis.plot(X[START:END], D.Bx3[SECTION,START:END]*np.sqrt(4*np.pi*UNIT_DENSITY)*UNIT_VELOCITY, \n",
    "          linestyle=\"--\")\n",
    "axis.set_title(r\"$n, B$\")\n",
    "axis.yaxis.set_minor_locator(mpl.ticker.AutoMinorLocator())\n",
    "axis.xaxis.set_minor_locator(mpl.ticker.AutoMinorLocator())\n",
    "\n",
    "# plasma beta\n",
    "axis = ax[1]\n",
    "axis.plot(X[START:END], D.prs[SECTION,START:END]/(D.Bx3[SECTION,START:END]**2/2))\n",
    "axis.set_title(r\"$\\beta$\")\n",
    "axis.yaxis.set_minor_locator(mpl.ticker.AutoMinorLocator())\n",
    "axis.xaxis.set_minor_locator(mpl.ticker.AutoMinorLocator())\n",
    "\n",
    "# speeds\n",
    "axis = ax[2]\n",
    "sound = np.sqrt(D.prs/D.rho*5/3)\n",
    "axis.plot(X[START:END], sound[SECTION,START:END], label=r\"$v_s$\")\n",
    "alfven = D.Bx3/np.sqrt(D.rho)\n",
    "vplus = np.sqrt(sound**2+alfven**2)\n",
    "axis.plot(X[START:END], vplus[SECTION,START:END], \"k-.\")\n",
    "axis.plot(X[START:END], alfven[SECTION,START:END], linestyle=\"--\", label=r\"$v_a$\")\n",
    "axis.set_ylabel(\"[$1000$ km/s]\")\n",
    "axis.yaxis.set_minor_locator(mpl.ticker.AutoMinorLocator())\n",
    "axis.xaxis.set_minor_locator(mpl.ticker.AutoMinorLocator())\n",
    "\n",
    "\n",
    "axis.set_title(\"characteristic speeds\")\n",
    "\n",
    "fig.text(0.5, 0.02, r\"distance [$10^8$cm]\", ha=\"center\")\n",
    "\n",
    "plt.tight_layout()\n",
    "plt.show()\n",
    "\n",
    "fig.savefig(\"../verslag/images/sections-initial-condition-plume.pdf\")"
   ]
  },
  {
   "cell_type": "code",
   "execution_count": 36,
   "metadata": {},
   "outputs": [
    {
     "data": {
      "text/plain": [
       "array([[0.27590286, 0.27590286, 0.27590286, ..., 0.27590286, 0.27590286,\n",
       "        0.27590286],\n",
       "       [0.27590286, 0.27590286, 0.27590286, ..., 0.27590286, 0.27590286,\n",
       "        0.27590286],\n",
       "       [0.27590286, 0.27590286, 0.27590286, ..., 0.27590286, 0.27590286,\n",
       "        0.27590286],\n",
       "       ...,\n",
       "       [0.27590286, 0.27590286, 0.27590286, ..., 0.27590286, 0.27590286,\n",
       "        0.27590286],\n",
       "       [0.27590286, 0.27590286, 0.27590286, ..., 0.27590286, 0.27590286,\n",
       "        0.27590286],\n",
       "       [0.27590286, 0.27590286, 0.27590286, ..., 0.27590286, 0.27590286,\n",
       "        0.27590286]])"
      ]
     },
     "execution_count": 36,
     "metadata": {},
     "output_type": "execute_result"
    }
   ],
   "source": [
    "D.Bx3/np.sqrt(D.rho)"
   ]
  }
 ],
 "metadata": {
  "kernelspec": {
   "display_name": "Python 3",
   "language": "python",
   "name": "python3"
  },
  "language_info": {
   "codemirror_mode": {
    "name": "ipython",
    "version": 3
   },
   "file_extension": ".py",
   "mimetype": "text/x-python",
   "name": "python",
   "nbconvert_exporter": "python",
   "pygments_lexer": "ipython3",
   "version": "3.8.2"
  }
 },
 "nbformat": 4,
 "nbformat_minor": 4
}
