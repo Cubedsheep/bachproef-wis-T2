{
 "cells": [
  {
   "cell_type": "markdown",
   "metadata": {},
   "source": [
    "# Data analysis coronal hole model"
   ]
  },
  {
   "cell_type": "markdown",
   "metadata": {},
   "source": [
    "## Import necesarry packages"
   ]
  },
  {
   "cell_type": "code",
   "execution_count": 2,
   "metadata": {},
   "outputs": [],
   "source": [
    "import script.pyPLUTO as pp\n",
    "import matplotlib.pyplot as plt\n",
    "import matplotlib as mpl\n",
    "\n",
    "import numpy as np\n",
    "import pandas as pd\n",
    "from scipy.ndimage import convolve\n",
    "\n",
    "# some commonly used constants\n",
    "CONST_mp = 1.67262171e-24  # gr"
   ]
  },
  {
   "cell_type": "code",
   "execution_count": 2,
   "metadata": {},
   "outputs": [],
   "source": [
    "mpl.rcParams[\"figure.dpi\"] = 150"
   ]
  },
  {
   "cell_type": "markdown",
   "metadata": {},
   "source": [
    "Usefull functions"
   ]
  },
  {
   "cell_type": "code",
   "execution_count": 3,
   "metadata": {},
   "outputs": [],
   "source": [
    "def get_extent(file, firstline):\n",
    "    \"\"\"this functions retrieves the extent of the grid (in code-units) and number of points from the grid.out \n",
    "    file in one dimension (starting at firstline)\n",
    "    \n",
    "    file: the grid.out file\n",
    "    firstline: the line in the file to look for the number of points in that dimension\"\"\"\n",
    "    with open(file, \"r\") as gridfile:\n",
    "        lines = gridfile.readlines()\n",
    "        # get the number of points\n",
    "        NUM_POINTS = int(lines[firstline])\n",
    "\n",
    "        # get the extent of the x-axis (in code units)\n",
    "        # the first line of the grid, so minimum coordinate\n",
    "        line = lines[firstline+1]\n",
    "        parts = line.split()\n",
    "        # remove the spaces\n",
    "        for part in parts:\n",
    "            if part == \" \":\n",
    "                del part\n",
    "        d_min = float(parts[1])\n",
    "        # the last line\n",
    "        line = lines[firstline+NUM_POINTS]\n",
    "        parts = line.split()\n",
    "        # remove the spaces\n",
    "        for part in parts:\n",
    "            if part == \" \":\n",
    "                del part\n",
    "        d_max = float(parts[2])\n",
    "    \n",
    "    return (NUM_POINTS, (d_min, d_max))"
   ]
  },
  {
   "cell_type": "markdown",
   "metadata": {},
   "source": [
    "Import metadata about the output such as the time corresponding to each files and conversion factors from code units to physical units"
   ]
  },
  {
   "cell_type": "code",
   "execution_count": 4,
   "metadata": {},
   "outputs": [],
   "source": [
    "# specify the directories where the data is stored and where the output should be stored\n",
    "DATA_DIR = \"data/default/\"\n",
    "OUT_DIR = \"data/images/density/\"\n",
    "\n",
    "# get info about the stored data\n",
    "file_data = pd.read_csv(DATA_DIR+\"dbl.out\", sep=\" \", names=[\"index\", \"t\", \"dt\", \"step\", \"type\", \"little\", \"rho\",\n",
    "                                                            \"vx1\", \"vx2\", \"vx3\", \"Bx1\", \"Bx2\", \"Bx3\", \"prs\", \"psi_glm\", \"empty\"])\n",
    "# delete columns that are not needed\n",
    "for column in [\"index\", \"type\", \"little\", \"rho\", \"vx1\", \"vx2\", \"vx3\", \"Bx1\", \"Bx2\", \"Bx3\", \"prs\", \"psi_glm\", \"empty\"]:\n",
    "    del file_data[column]\n",
    "\n",
    "# define the conversion factors\n",
    "UNIT_DENSITY = 1e9*CONST_mp\n",
    "UNIT_LENGTH = 1e8 # cm\n",
    "UNIT_VELOCITY = 1e8 # cm/s\n",
    "\n",
    "X_POINTS = 0\n",
    "Y_POINTS = 0\n",
    "X_EXTENT = (0,0)\n",
    "Y_EXTENT = (0,0)\n",
    "\n",
    "# get the extend of the grid\n",
    "# get the extent of the x-axis (in code units)\n",
    "X_POINTS, X_EXTENT = get_extent(DATA_DIR+\"grid.out\", 9)\n",
    "# get the extent of the y-axis\n",
    "Y_POINTS, Y_EXTENT = get_extent(DATA_DIR+\"grid.out\", 10+X_POINTS)\n",
    "\n",
    "# number of files saved\n",
    "N = len(file_data[\"t\"])"
   ]
  },
  {
   "cell_type": "markdown",
   "metadata": {},
   "source": [
    "## Make plots of the density to visualize the wave"
   ]
  },
  {
   "cell_type": "markdown",
   "metadata": {},
   "source": [
    "Import for each output file the density, plot it and save the output"
   ]
  },
  {
   "cell_type": "code",
   "execution_count": 7,
   "metadata": {},
   "outputs": [
    {
     "name": "stdout",
     "output_type": "stream",
     "text": [
      "Reading Data file : data/default//data.0000.dbl\n",
      "Reading Data file : data/default//data.0001.dbl\n",
      "Reading Data file : data/default//data.0002.dbl\n",
      "Reading Data file : data/default//data.0003.dbl\n",
      "Reading Data file : data/default//data.0004.dbl\n",
      "Reading Data file : data/default//data.0005.dbl\n",
      "Reading Data file : data/default//data.0006.dbl\n",
      "Reading Data file : data/default//data.0007.dbl\n",
      "Reading Data file : data/default//data.0008.dbl\n",
      "Reading Data file : data/default//data.0009.dbl\n",
      "Reading Data file : data/default//data.0010.dbl\n",
      "Reading Data file : data/default//data.0011.dbl\n",
      "Reading Data file : data/default//data.0012.dbl\n",
      "Reading Data file : data/default//data.0013.dbl\n",
      "Reading Data file : data/default//data.0014.dbl\n",
      "Reading Data file : data/default//data.0015.dbl\n",
      "Reading Data file : data/default//data.0016.dbl\n",
      "Reading Data file : data/default//data.0017.dbl\n",
      "Reading Data file : data/default//data.0018.dbl\n",
      "Reading Data file : data/default//data.0019.dbl\n",
      "Reading Data file : data/default//data.0020.dbl\n",
      "Reading Data file : data/default//data.0021.dbl\n",
      "Reading Data file : data/default//data.0022.dbl\n",
      "Reading Data file : data/default//data.0023.dbl\n",
      "Reading Data file : data/default//data.0024.dbl\n",
      "Reading Data file : data/default//data.0025.dbl\n",
      "Reading Data file : data/default//data.0026.dbl\n",
      "Reading Data file : data/default//data.0027.dbl\n",
      "Reading Data file : data/default//data.0028.dbl\n",
      "Reading Data file : data/default//data.0029.dbl\n",
      "Reading Data file : data/default//data.0030.dbl\n",
      "Reading Data file : data/default//data.0031.dbl\n",
      "Reading Data file : data/default//data.0032.dbl\n",
      "Reading Data file : data/default//data.0033.dbl\n",
      "Reading Data file : data/default//data.0034.dbl\n",
      "Reading Data file : data/default//data.0035.dbl\n",
      "Reading Data file : data/default//data.0036.dbl\n",
      "Reading Data file : data/default//data.0037.dbl\n",
      "Reading Data file : data/default//data.0038.dbl\n",
      "Reading Data file : data/default//data.0039.dbl\n",
      "Reading Data file : data/default//data.0040.dbl\n",
      "Reading Data file : data/default//data.0041.dbl\n",
      "Reading Data file : data/default//data.0042.dbl\n",
      "Reading Data file : data/default//data.0043.dbl\n",
      "Reading Data file : data/default//data.0044.dbl\n",
      "Reading Data file : data/default//data.0045.dbl\n",
      "Reading Data file : data/default//data.0046.dbl\n",
      "Reading Data file : data/default//data.0047.dbl\n",
      "Reading Data file : data/default//data.0048.dbl\n",
      "Reading Data file : data/default//data.0049.dbl\n",
      "Reading Data file : data/default//data.0050.dbl\n"
     ]
    }
   ],
   "source": [
    "T = file_data[\"t\"].values\n",
    "extent_temp = X_EXTENT + Y_EXTENT\n",
    "extent = [value*UNIT_LENGTH for value in extent_temp]\n",
    "\n",
    "for i in range(N):\n",
    "    D = pp.pload(i, w_dir=DATA_DIR+\"/\")\n",
    "    \n",
    "    fig, ax = plt.subplots(1,1)\n",
    "    \n",
    "    #im=ax.imshow(np.log(plotvar[i]), vmin=np.log(MIN), vmax=np.log(MAX), cmap=\"plasma\")\n",
    "    im=ax.imshow(D.rho**2, cmap=\"plasma\", extent=extent)\n",
    "    cbar = fig.colorbar(im, ax=ax)\n",
    "    cbar.ax.set_ylabel('density [$g/cm^3$]', rotation=270)\n",
    "    \n",
    "    plt.title(\"time: %.4f s\"%(T[i]))\n",
    "    ax.set_xlabel(\"x-axis [cm]\")\n",
    "    ax.set_ylabel(\"y-axis [cm]\")\n",
    "    \n",
    "    fig.savefig(OUT_DIR+\"rho-linear%04i.png\"%i)\n",
    "    \n",
    "    plt.close(fig=fig)"
   ]
  }
 ],
 "metadata": {
  "kernelspec": {
   "display_name": "Python 3",
   "language": "python",
   "name": "python3"
  },
  "language_info": {
   "codemirror_mode": {
    "name": "ipython",
    "version": 3
   },
   "file_extension": ".py",
   "mimetype": "text/x-python",
   "name": "python",
   "nbconvert_exporter": "python",
   "pygments_lexer": "ipython3",
   "version": "3.6.3"
  }
 },
 "nbformat": 4,
 "nbformat_minor": 4
}
