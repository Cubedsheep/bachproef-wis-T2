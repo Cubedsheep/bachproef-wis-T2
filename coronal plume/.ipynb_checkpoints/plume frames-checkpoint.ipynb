{
 "cells": [
  {
   "cell_type": "markdown",
   "metadata": {},
   "source": [
    "# Data analysis coronal hole model"
   ]
  },
  {
   "cell_type": "markdown",
   "metadata": {},
   "source": [
    "## Import necesarry packages"
   ]
  },
  {
   "cell_type": "code",
   "execution_count": 1,
   "metadata": {
    "jupyter": {
     "source_hidden": true
    }
   },
   "outputs": [],
   "source": [
    "import script.pyPLUTO as pp\n",
    "import matplotlib.pyplot as plt\n",
    "import matplotlib as mpl\n",
    "\n",
    "import numpy as np\n",
    "import pandas as pd\n",
    "from scipy.ndimage import convolve\n",
    "\n",
    "# some commonly used constants\n",
    "CONST_mp = 1.67262171e-24  # gr"
   ]
  },
  {
   "cell_type": "code",
   "execution_count": 2,
   "metadata": {
    "jupyter": {
     "source_hidden": true
    }
   },
   "outputs": [],
   "source": [
    "mpl.rcParams[\"figure.dpi\"] = 150    # about the dpi for a 15 inch 1080p laptop, makes sure the displayed plots are the real size \n",
    "#mpl.rcParams[\"figure.dpi\"] = 600\n",
    "\n",
    "mpl.rcParams[\"figure.figsize\"] = (6, 3)\n",
    "mpl.rcParams[\"axes.labelsize\"] = 12\n",
    "\n",
    "mpl.rcParams[\"axes.formatter.limits\"] = (-4, 4)\n",
    "\n",
    "mpl.rcParams[\"axes.prop_cycle\"] = mpl.cycler(color=[\"xkcd:royal blue\", \"xkcd:vermillion\", \"xkcd:orange\", \n",
    "                                                    \"xkcd:magenta\", \"xkcd:lime\", \"xkcd:yellow\", \"grey\"])\n",
    "\n",
    "mpl.rcParams[\"lines.linewidth\"] = 1\n",
    "mpl.rcParams[\"axes.linewidth\"] = .5\n",
    "\n",
    "mpl.rcParams[\"font.size\"] = 12\n",
    "\n",
    "mpl.rcParams[\"text.usetex\"] = True\n",
    "\n",
    "\n",
    "#mpl.rcParams[\"figure.facecolor\"] = \"#fffbf0\"\n",
    "#mpl.rcParams[\"axes.facecolor\"] = \"#fffbf0\"\n",
    "#mpl.rcParams[\"savefig.facecolor\"] = '#fffbf0'"
   ]
  },
  {
   "cell_type": "markdown",
   "metadata": {},
   "source": [
    "Usefull functions"
   ]
  },
  {
   "cell_type": "code",
   "execution_count": 3,
   "metadata": {
    "jupyter": {
     "source_hidden": true
    }
   },
   "outputs": [],
   "source": [
    "def get_extent(file, firstline):\n",
    "    \"\"\"this functions retrieves the extent of the grid (in code-units) and number of points from the grid.out \n",
    "    file in one dimension (starting at firstline)\n",
    "    \n",
    "    file: the grid.out file\n",
    "    firstline: the line in the file to look for the number of points in that dimension\"\"\"\n",
    "    with open(file, \"r\") as gridfile:\n",
    "        lines = gridfile.readlines()\n",
    "        # get the number of points\n",
    "        NUM_POINTS = int(lines[firstline])\n",
    "\n",
    "        # get the extent of the x-axis (in code units)\n",
    "        # the first line of the grid, so minimum coordinate\n",
    "        line = lines[firstline+1]\n",
    "        parts = line.split()\n",
    "        # remove the spaces\n",
    "        for part in parts:\n",
    "            if part == \" \":\n",
    "                del part\n",
    "        d_min = float(parts[1])\n",
    "        # the last line\n",
    "        line = lines[firstline+NUM_POINTS]\n",
    "        parts = line.split()\n",
    "        # remove the spaces\n",
    "        for part in parts:\n",
    "            if part == \" \":\n",
    "                del part\n",
    "        d_max = float(parts[2])\n",
    "    \n",
    "    return (NUM_POINTS, (d_min, d_max))"
   ]
  },
  {
   "cell_type": "markdown",
   "metadata": {},
   "source": [
    "Import metadata about the output such as the time corresponding to each files and conversion factors from code units to physical units"
   ]
  },
  {
   "cell_type": "code",
   "execution_count": 4,
   "metadata": {
    "jupyter": {
     "source_hidden": true
    }
   },
   "outputs": [],
   "source": [
    "# specify the directories where the data is stored and where the output should be stored\n",
    "DATA_DIR = \"data/plume-raw-G3/\"\n",
    "OUT_DIR = \"data/images/frames/\"\n",
    "\n",
    "# get info about the stored data\n",
    "file_data = pd.read_csv(DATA_DIR+\"dbl.out\", sep=\" \", names=[\"index\", \"t\", \"dt\", \"step\", \"type\", \"little\", \"rho\",\n",
    "                                                            \"vx1\", \"vx2\", \"vx3\", \"Bx1\", \"Bx2\", \"Bx3\", \"prs\", \"psi_glm\", \"empty\"])\n",
    "# delete columns that are not needed\n",
    "for column in [\"index\", \"type\", \"little\", \"rho\", \"vx1\", \"vx2\", \"vx3\", \"Bx1\", \"Bx2\", \"Bx3\", \"prs\", \"psi_glm\", \"empty\"]:\n",
    "    del file_data[column]\n",
    "\n",
    "# define the conversion factors\n",
    "UNIT_DENSITY = 1e9*CONST_mp\n",
    "UNIT_LENGTH = 1e8 # cm\n",
    "UNIT_VELOCITY = 1e8 # cm/s\n",
    "\n",
    "X_POINTS = 0\n",
    "Y_POINTS = 0\n",
    "X_EXTENT = (0,0)\n",
    "Y_EXTENT = (0,0)\n",
    "\n",
    "# get the extend of the grid\n",
    "# get the extent of the x-axis (in code units)\n",
    "X_POINTS, X_EXTENT = get_extent(DATA_DIR+\"grid.out\", 9)\n",
    "# get the extent of the y-axis\n",
    "Y_POINTS, Y_EXTENT = get_extent(DATA_DIR+\"grid.out\", 10+X_POINTS)\n",
    "\n",
    "# number of files saved\n",
    "N = len(file_data[\"t\"])"
   ]
  },
  {
   "cell_type": "markdown",
   "metadata": {},
   "source": [
    "## 12 plots of wave interaction"
   ]
  },
  {
   "cell_type": "markdown",
   "metadata": {},
   "source": [
    "### Pressure"
   ]
  },
  {
   "cell_type": "markdown",
   "metadata": {},
   "source": [
    "fig, ax = plt.subplots(4,3,figsize=(6,8))\n",
    "\n",
    "N = [80+7*i for i in range(0,12)]\n",
    "\n",
    "T = file_data[\"t\"].values\n",
    "extent_temp = X_EXTENT + Y_EXTENT\n",
    "extent = [value*UNIT_LENGTH for value in extent_temp]\n",
    "ex = [x*1e-11 for x in extent]\n",
    "\n",
    "for i in range(12):\n",
    "    column = i%3\n",
    "    row = i//3\n",
    "    axis = ax[row][column]\n",
    "    \n",
    "    D = pp.pload(N[i], w_dir=DATA_DIR)\n",
    "    im=axis.imshow(D.rho, vmin=0.097, vmax=0.11, extent=ex, cmap=\"plasma\")\n",
    "    \n",
    "    axis.get_xaxis().set_visible(False)\n",
    "    axis.get_yaxis().set_visible(False)\n",
    "    \n",
    "    axis.set_title(\"t=%.0f\"%T[N[i]])\n",
    "    \n",
    "plt.colorbar(im, ax=ax)\n",
    "    \n",
    "# switch the axes on the side on\n",
    "for column in range(3):\n",
    "    ax[3][column].get_xaxis().set_visible(True)\n",
    "for row in range(4):\n",
    "    ax[row][0].get_yaxis().set_visible(True)\n",
    "    \n",
    "fig.text(0.5, 0.07, r\"distance $[10^{11}cm]$\", va='center', ha=\"center\")\n",
    "fig.text(0.03, 0.5, r\"distance $[10^{11}cm]$\", va='center', rotation=90)\n",
    "\n",
    "fig.savefig(\"../verslag/images/coronal-plume.pdf\")"
   ]
  },
  {
   "cell_type": "markdown",
   "metadata": {},
   "source": [
    "### density"
   ]
  },
  {
   "cell_type": "markdown",
   "metadata": {},
   "source": [
    "fig, ax = plt.subplots(4,3,figsize=(6,8))\n",
    "\n",
    "N = [11*i for i in range(0,12)]\n",
    "\n",
    "T = file_data[\"t\"].values\n",
    "extent_temp = X_EXTENT + Y_EXTENT\n",
    "extent = [value*UNIT_LENGTH for value in extent_temp]\n",
    "ex = [x*1e-11 for x in extent]\n",
    "\n",
    "for i in range(12):\n",
    "    column = i%3\n",
    "    row = i//3\n",
    "    axis = ax[row][column]\n",
    "    \n",
    "    D = pp.pload(N[i], w_dir=DATA_DIR)\n",
    "    im=axis.imshow(D.rho, vmin=0.098, vmax=0.13, extent=ex, cmap=\"plasma\")\n",
    "    \n",
    "    axis.get_xaxis().set_visible(False)\n",
    "    axis.get_yaxis().set_visible(False)\n",
    "    \n",
    "    axis.set_title(\"t=%.0f\"%T[N[i]])\n",
    "    \n",
    "plt.colorbar(im, ax=ax, fraction=0.04, pad=0.01)\n",
    "    \n",
    "# switch the axes on the side on\n",
    "for column in range(3):\n",
    "    ax[3][column].get_xaxis().set_visible(True)\n",
    "for row in range(4):\n",
    "    ax[row][0].get_yaxis().set_visible(True)\n",
    "    \n",
    "fig.text(0.5, 0.07, r\"distance $[10^{11}cm]$\", va='center', ha=\"center\")\n",
    "fig.text(0.03, 0.5, r\"distance $[10^{11}cm]$\", va='center', rotation=90)\n",
    "\n",
    "#fig.savefig(\"../verslag/images/coronal-hole.pdf\")"
   ]
  },
  {
   "cell_type": "markdown",
   "metadata": {},
   "source": [
    "## Make plots of the density and pressure to visualize the wave"
   ]
  },
  {
   "cell_type": "markdown",
   "metadata": {},
   "source": [
    "test with one frame"
   ]
  },
  {
   "cell_type": "code",
   "execution_count": 5,
   "metadata": {},
   "outputs": [],
   "source": [
    "T = file_data[\"t\"].values\n",
    "extent_temp = X_EXTENT + Y_EXTENT\n",
    "extent = [value*UNIT_LENGTH*1e-11 for value in extent_temp]\n",
    "\n",
    "def rho_prs(D, i, save=False, name=\"\"):\n",
    "    fig, ax = plt.subplots(1,2,figsize=(12.8, 7.2))\n",
    "\n",
    "    axis = ax[0]\n",
    "    im=axis.imshow(D.prs, vmin=0.0024, vmax=0.00292, extent=extent, cmap=\"gnuplot\")\n",
    "    cbar = fig.colorbar(im, ax=axis, fraction=0.0465, pad=0.02)\n",
    "    cbar.ax.set_ylabel('pressure [code units]', rotation=270, fontsize=12, labelpad=15)\n",
    "    axis.set_title(\"Pressure\", fontsize=16)\n",
    "\n",
    "    vmin=0.098\n",
    "    vmax = 0.10965\n",
    "    axis = ax[1]\n",
    "    im=axis.imshow(D.rho, vmin=vmin, vmax=vmax, extent=extent, cmap=\"gnuplot\")\n",
    "    cbar = fig.colorbar(im, ax=axis, fraction=0.0465, pad=0.02)\n",
    "    cbar.ax.set_ylabel('density [code units]', rotation=270, fontsize=12, labelpad=15)\n",
    "    axis.set_title(\"Density\", fontsize=16)\n",
    "\n",
    "\n",
    "    fig.suptitle(\"time: %.2e [s]\"%(T[i]), y=0.99, fontsize=24)\n",
    "    #ax.set_xlabel(\"x-axis [cm]\")\n",
    "    #ax.set_ylabel(\"y-axis [cm]\")\n",
    "\n",
    "    fig.text(0.5, 0.025, r\"distance $[10^{11}cm]$\", va='center', ha=\"center\")\n",
    "    fig.text(0.005, 0.6, r\"distance $[10^{11}cm]$\", va='center', rotation=90)\n",
    "\n",
    "    plt.tight_layout()\n",
    "    \n",
    "    if save:\n",
    "        fig.savefig(name)\n",
    "    \n",
    "    return fig\n",
    "\n",
    "#i = 100\n",
    "#D = pp.pload(i, w_dir=DATA_DIR+\"/\")\n",
    "#rho_prs(D, i, save=True, name=\"test\")\n",
    "#plt.show()"
   ]
  },
  {
   "cell_type": "markdown",
   "metadata": {},
   "source": [
    "Import for each output file the density, plot it and save the output"
   ]
  },
  {
   "cell_type": "markdown",
   "metadata": {},
   "source": [
    "## Pressure outside and inside plume side by side"
   ]
  },
  {
   "cell_type": "code",
   "execution_count": 6,
   "metadata": {},
   "outputs": [],
   "source": [
    "## preparation\n",
    "\n",
    "T = file_data[\"t\"].values\n",
    "extent_temp = X_EXTENT + Y_EXTENT\n",
    "extent = [value*UNIT_LENGTH*1e-11 for value in extent_temp]\n",
    "\n",
    "# region cut out for wave inside of plume\n",
    "# select region\n",
    "MIN = 430\n",
    "MAX = 594\n",
    "min_coord = (X_EXTENT[0] + (X_EXTENT[1]-X_EXTENT[0])*MIN/1024)/(1000)\n",
    "max_coord = (X_EXTENT[0] + (X_EXTENT[1]-X_EXTENT[0])*MAX/1024)/(1000)\n",
    "# pressure inside plume\n",
    "ex = [value*UNIT_LENGTH*(MAX-MIN)/1023*1e-11 for value in extent_temp]\n",
    "# circle of characteristic diameter\n",
    "d = 100/X_EXTENT[1]\n",
    "THETA = np.linspace(0,2*np.pi,1000)\n",
    "X_circ = d*np.cos(THETA)\n",
    "Y_circ = d*np.sin(THETA)\n",
    "\n",
    "## end preparation\n",
    "def plume_zoom(D, i, save=False, name=\"\"):\n",
    "    fig, ax = plt.subplots(1,2,figsize=(12.8, 7.2))\n",
    "\n",
    "    # select cutoffs\n",
    "    if i < 105:\n",
    "        vmin=0.1\n",
    "    else:\n",
    "        vmin=0.098\n",
    "    vmax = 0.10965\n",
    "\n",
    "    # pressure outside plume\n",
    "    axis = ax[0]\n",
    "    im=axis.imshow(D.rho, vmin=vmin, vmax=vmax, extent=extent, cmap=\"gnuplot\")\n",
    "    cbar = fig.colorbar(im, ax=axis, fraction=0.0465, pad=0.02)\n",
    "    cbar.ax.set_ylabel('Density [code units]', rotation=270, fontsize=12, labelpad=15)\n",
    "    axis.set_title(\"Density\", fontsize=16)\n",
    "    # draw box of the inset\n",
    "    axis.plot([min_coord, min_coord], [min_coord, max_coord], \"w--\", lw=1.2)\n",
    "    axis.plot([min_coord, max_coord], [max_coord, max_coord], \"w--\", lw=1.2)\n",
    "    axis.plot([max_coord, max_coord], [max_coord, min_coord], \"w--\", lw=1.2)\n",
    "    axis.plot([max_coord, min_coord], [min_coord, min_coord], \"w--\", lw=1.2)\n",
    "    # draw the circle of characteristic width for the plume/hole\n",
    "    axis.plot(X_circ,Y_circ,\"-.k\",lw=1.2)\n",
    "    # small ticks\n",
    "    axis.yaxis.set_minor_locator(mpl.ticker.AutoMinorLocator())\n",
    "    axis.xaxis.set_minor_locator(mpl.ticker.AutoMinorLocator())\n",
    "\n",
    "\n",
    "    # select cutoffs\n",
    "    if (n < 115) or (n > 135):\n",
    "        vmin = 0.8\n",
    "        vmax = 1.2\n",
    "    else:\n",
    "        vmin = 0.8 - 1/121*1/10*(i-114)*(136-i)\n",
    "        vmax = 1.2 + 1/121*3/10*(i-114)*(136-i)\n",
    "\n",
    "    # pressure inside plume\n",
    "    axis = ax[1]\n",
    "    im=axis.imshow(D.rho[MIN:MAX,MIN:MAX], vmin=vmin, vmax=vmax, extent=ex, cmap=\"gnuplot\")\n",
    "    cbar = fig.colorbar(im, ax=axis, fraction=0.0465, pad=0.02)\n",
    "    cbar.ax.set_ylabel('Density [code units]', rotation=270, fontsize=12, labelpad=15)\n",
    "    axis.set_title(\"Density inside plume\", fontsize=16)\n",
    "    axis.plot(X_circ,Y_circ,\"-.w\",lw=1.2)\n",
    "    axis.yaxis.set_minor_locator(mpl.ticker.AutoMinorLocator())\n",
    "    axis.xaxis.set_minor_locator(mpl.ticker.AutoMinorLocator())\n",
    "\n",
    "\n",
    "    fig.suptitle(\"time: %.2e [s]\"%(T[i]), y=0.99, fontsize=24)\n",
    "    #ax.set_xlabel(\"x-axis [cm]\")\n",
    "    #ax.set_ylabel(\"y-axis [cm]\")\n",
    "\n",
    "    fig.text(0.5, 0.025, r\"distance $[10^{11}cm]$\", va='center', ha=\"center\")\n",
    "    fig.text(0.005, 0.6, r\"distance $[10^{11}cm]$\", va='center', rotation=90)\n",
    "\n",
    "    plt.tight_layout()\n",
    "    \n",
    "    if save:\n",
    "        fig.savefig(name)\n",
    "\n",
    "    return fig\n",
    "\n",
    "#plume_zoom(D,i)\n",
    "#plt.show()"
   ]
  },
  {
   "cell_type": "code",
   "execution_count": 7,
   "metadata": {},
   "outputs": [
    {
     "name": "stdout",
     "output_type": "stream",
     "text": [
      "Reading Data file : data/plume-raw-G3/data.0000.dbl\n"
     ]
    }
   ],
   "source": [
    "X = np.linspace(X_EXTENT[0], X_EXTENT[1], X_POINTS)\n",
    "ref = pp.pload(0, DATA_DIR)\n",
    "SECTION = int(1/2*X_POINTS)\n",
    "\n",
    "def sections(D, i, save=False, name=\"\"):\n",
    "    fig, ax = plt.subplots(3,1, figsize=(6,6))\n",
    "\n",
    "    # find the front of the wave\n",
    "    large = (D.rho[:,0]/ref.rho[:,0])>1.05 # the large excitations\n",
    "    indexes = np.where(large == 1)\n",
    "    try:\n",
    "        index = indexes[0][-1]\n",
    "        physical_position = X_EXTENT[0] + (X_EXTENT[1]-X_EXTENT[0])*index/X_POINTS\n",
    "    except:\n",
    "        physical_position = X_EXTENT[1]\n",
    "\n",
    "    # outside\n",
    "    axis = ax[0]\n",
    "    axis.set_ylim(0.097,0.11)\n",
    "    axis.plot(X, D.rho[:,SECTION])\n",
    "    axis.plot([physical_position, physical_position], [-10,10], '--')\n",
    "    axis.get_xaxis().set_visible(False)\n",
    "    axis.set_ylabel(r\"density [$10^9 cm^{-3}$]\")\n",
    "    axis.yaxis.set_minor_locator(mpl.ticker.AutoMinorLocator())\n",
    "    axis.xaxis.set_minor_locator(mpl.ticker.AutoMinorLocator())\n",
    "\n",
    "    # relative\n",
    "    axis = ax[1]\n",
    "    axis.plot(X, D.rho[:,SECTION]/ref.rho[:,SECTION])\n",
    "    axis.plot([physical_position, physical_position], [-10,10], '--')\n",
    "    axis.set_ylim(-0.2,2)\n",
    "    axis.set_title(\"relative change in density with respect to initial condition\")\n",
    "    axis.yaxis.set_minor_locator(mpl.ticker.AutoMinorLocator())\n",
    "    axis.xaxis.set_minor_locator(mpl.ticker.AutoMinorLocator())\n",
    "\n",
    "    # inside\n",
    "    axis = ax[2]\n",
    "    axis.plot(X, D.rho[:,SECTION])\n",
    "    axis.plot([physical_position, physical_position], [-10,10], '--')\n",
    "    axis.set_ylim(0.8,1.5)\n",
    "    axis.set_xlim(-150,150)\n",
    "    axis.set_ylabel(r\"density [$10^8 cm^{-3}$]\")\n",
    "    axis.set_xlabel(r\"distance [$10^{11}$ cm]\")\n",
    "    axis.yaxis.set_minor_locator(mpl.ticker.AutoMinorLocator())\n",
    "    axis.xaxis.set_minor_locator(mpl.ticker.AutoMinorLocator())\n",
    "    \n",
    "    fig.suptitle(\"time: %.2e [s]\"%T[i], y=1)\n",
    "    plt.tight_layout()\n",
    "    \n",
    "    if save:\n",
    "        fig.savefig(name)\n",
    "    \n",
    "    return fig\n",
    "\n",
    "#sections(D, i)\n",
    "#plt.show()"
   ]
  },
  {
   "cell_type": "markdown",
   "metadata": {},
   "source": [
    "## plots for every snapshot"
   ]
  },
  {
   "cell_type": "code",
   "execution_count": 9,
   "metadata": {},
   "outputs": [
    {
     "name": "stdout",
     "output_type": "stream",
     "text": [
      "Reading Data file : data/plume-raw-G3/data.0000.dbl\n",
      "Reading Data file : data/plume-raw-G3/data.0300.dbl\n"
     ]
    }
   ],
   "source": [
    "# initialize names to save the plots under\n",
    "NAME_PRS_RHO = \"data/images/both/frame\"\n",
    "NAME_ZOOM = \"data/images/zoom/frame\"\n",
    "NAME_SECTION = \"data/images/section/section%04iframe\"%SECTION\n",
    "\n",
    "### initialization \"both\"\n",
    "#-----------------------------\n",
    "T = file_data[\"t\"].values\n",
    "extent_temp = X_EXTENT + Y_EXTENT\n",
    "extent = [value*UNIT_LENGTH*1e-11 for value in extent_temp]\n",
    "\n",
    "### initialization \"zoom\"\n",
    "#-----------------------------\n",
    "ex = [value*UNIT_LENGTH*(MAX-MIN)/1023*1e-11 for value in extent_temp]\n",
    "\n",
    "# region cut out for wave inside of plume\n",
    "# select region\n",
    "MIN = 430\n",
    "MAX = 594\n",
    "min_coord = (X_EXTENT[0] + (X_EXTENT[1]-X_EXTENT[0])*MIN/1024)/(1000)\n",
    "max_coord = (X_EXTENT[0] + (X_EXTENT[1]-X_EXTENT[0])*MAX/1024)/(1000)\n",
    "# circle of characteristic diameter\n",
    "d = 100/X_EXTENT[1]\n",
    "THETA = np.linspace(0,2*np.pi,1000)\n",
    "X_circ = d*np.cos(THETA)\n",
    "Y_circ = d*np.sin(THETA)\n",
    "\n",
    "### initialization \"section\"\n",
    "#------------------------------\n",
    "X = np.linspace(X_EXTENT[0], X_EXTENT[1], X_POINTS)\n",
    "ref = pp.pload(0, DATA_DIR)\n",
    "SECTION = int(1/2*X_POINTS)\n",
    "\n",
    "\n",
    "### loop over all data\n",
    "for i in range(300,301):\n",
    "    # read the data\n",
    "    D = pp.pload(i, w_dir=DATA_DIR)\n",
    "    # make the plot of both variables\n",
    "    fig = rho_prs(D, i, save=True, name=NAME_PRS_RHO + \"%03i.png\"%i)\n",
    "    #fig.savefig(NAME_PRS_RHO + \"%03i.png\"%i)\n",
    "    plt.close(fig=fig)\n",
    "    # make the plot for the zoom\n",
    "    fig = plume_zoom(D, i, save=True, name=NAME_ZOOM + \"%03i.png\"%i)\n",
    "    #fig.savefig(NAME_ZOOM + \"%03i.png\"%i)\n",
    "    plt.close(fig=fig)\n",
    "    # make the plot for the section\n",
    "    fig = sections(D, i, save=True, name=NAME_SECTION + \"%03i.png\"%i)\n",
    "    #fig.savefig(NAME_SECTION + \"%03i.png\"%i)\n",
    "    plt.close(fig=fig)"
   ]
  }
 ],
 "metadata": {
  "kernelspec": {
   "display_name": "Python 3",
   "language": "python",
   "name": "python3"
  },
  "language_info": {
   "codemirror_mode": {
    "name": "ipython",
    "version": 3
   },
   "file_extension": ".py",
   "mimetype": "text/x-python",
   "name": "python",
   "nbconvert_exporter": "python",
   "pygments_lexer": "ipython3",
   "version": "3.8.2"
  }
 },
 "nbformat": 4,
 "nbformat_minor": 4
}
