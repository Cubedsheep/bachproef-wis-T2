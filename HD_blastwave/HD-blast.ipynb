{
 "cells": [
  {
   "cell_type": "code",
   "execution_count": null,
   "metadata": {},
   "outputs": [],
   "source": [
    "import script.pyPLUTO as pp\n",
    "import matplotlib.pyplot as plt\n",
    "import matplotlib as mpl\n",
    "\n",
    "import numpy as np"
   ]
  },
  {
   "cell_type": "code",
   "execution_count": null,
   "metadata": {},
   "outputs": [],
   "source": [
    "mpl.rcParams[\"figure.dpi\"] = 150\n",
    "FOLDER = \"data\"\n",
    "N = 19"
   ]
  },
  {
   "cell_type": "code",
   "execution_count": null,
   "metadata": {},
   "outputs": [],
   "source": [
    "rho = []\n",
    "vx = []\n",
    "vy = []\n",
    "prs = []\n",
    "\n",
    "for i in range(N):\n",
    "    D = pp.pload(i, w_dir=FOLDER+\"/\")\n",
    "    rho.append(D.rho)\n",
    "    vx.append(D.vx1)\n",
    "    vy.append(D.vx2)\n",
    "    prs.append(D.prs)"
   ]
  },
  {
   "cell_type": "code",
   "execution_count": null,
   "metadata": {},
   "outputs": [],
   "source": [
    "MAX = 0\n",
    "MIN = 10\n",
    "\n",
    "plotvar = prs\n",
    "\n",
    "for i in range(10):\n",
    "    m = np.min(plotvar[i])\n",
    "    M = np.max(plotvar[i])\n",
    "    if (m<MIN):\n",
    "        MIN=m\n",
    "    if M>MAX:\n",
    "        MAX=M"
   ]
  },
  {
   "cell_type": "code",
   "execution_count": null,
   "metadata": {},
   "outputs": [],
   "source": [
    "for i in range(N):\n",
    "    fig, ax = plt.subplots(1,1)\n",
    "    \n",
    "    #im=ax.imshow(np.log(plotvar[i]), vmin=np.log(MIN), vmax=np.log(MAX), cmap=\"plasma\")\n",
    "    im=ax.imshow(plotvar[i], vmin=MIN, vmax=MAX, cmap=\"plasma\")\n",
    "\n",
    "    fig.colorbar(im, ax=ax)\n",
    "\n",
    "    plt.title(\"time: %.4f s\"%(i*0.0005))\n",
    "    \n",
    "    fig.savefig(\"images/prs-linear%04i.png\"%i)\n",
    "    \n",
    "    plt.close(fig=fig)\n",
    "    \n",
    "    if i%10 == 0:\n",
    "        print(i)"
   ]
  }
 ],
 "metadata": {
  "kernelspec": {
   "display_name": "Python 3",
   "language": "python",
   "name": "python3"
  },
  "language_info": {
   "codemirror_mode": {
    "name": "ipython",
    "version": 3
   },
   "file_extension": ".py",
   "mimetype": "text/x-python",
   "name": "python",
   "nbconvert_exporter": "python",
   "pygments_lexer": "ipython3",
   "version": "3.8.2"
  }
 },
 "nbformat": 4,
 "nbformat_minor": 4
}
